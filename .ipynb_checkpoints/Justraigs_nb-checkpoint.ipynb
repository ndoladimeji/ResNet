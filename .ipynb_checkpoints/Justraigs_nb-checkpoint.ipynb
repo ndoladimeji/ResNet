{
 "cells": [
  {
   "cell_type": "code",
   "execution_count": null,
   "id": "210ccb6a",
   "metadata": {},
   "outputs": [],
   "source": [
    "import os\n",
    "from PIL import Image, ImageFile\n",
    "\n",
    "ImageFile.LOAD_TRUNCATED_IMAGES = True\n",
    "\n",
    "def image_resizer(image_path, output_file, resize):\n",
    "    basename = os.path.basename(image_path)\n",
    "    outpath = os.path.join(output_file, basename)\n",
    "    img = Image.open(image_path)\n",
    "    img = img.resize((resize[1], resize[0]), resample=Image.BILINEAR)\n",
    "    img.save(outpath)\n",
    "\n",
    "# Create the directory to save resized images\n",
    "os.makedirs('resized_images', exist_ok=True)\n",
    "\n",
    "# Deploy the function in a for loop\n",
    "files = os.listdir(r'JustRAIGS_Train')\n",
    "for file in files:\n",
    "    file_path = os.path.join(r'JustRAIGS_Train', file)\n",
    "    image_resizer(file_path, 'resized_images', [224, 224])"
   ]
  },
  {
   "cell_type": "code",
   "execution_count": 1,
   "id": "4be2d3c5",
   "metadata": {},
   "outputs": [],
   "source": [
    "# Read in the csv file and see its info\n",
    "import pandas as pd\n",
    "df = pd.read_csv('JustRAIGS_Train_labels.csv', sep=';')"
   ]
  },
  {
   "cell_type": "code",
   "execution_count": 44,
   "id": "ad926d30",
   "metadata": {},
   "outputs": [],
   "source": [
    "# Check how null values are entered\n",
    "df.sample(10);"
   ]
  },
  {
   "cell_type": "code",
   "execution_count": 46,
   "id": "ed372a50",
   "metadata": {},
   "outputs": [],
   "source": [
    "# Check if Fellow Eye ID of the first row was later used as Eye ID\n",
    "df[df['Eye ID'] == 'TRAIN081848'];"
   ]
  },
  {
   "cell_type": "code",
   "execution_count": 3,
   "id": "5c56d9a4",
   "metadata": {},
   "outputs": [
    {
     "data": {
      "text/plain": [
       "NRG    98153\n",
       "RG      3270\n",
       "Name: Final Label, dtype: int64"
      ]
     },
     "execution_count": 3,
     "metadata": {},
     "output_type": "execute_result"
    }
   ],
   "source": [
    "# Check the number of distinct values in Final Label column\n",
    "df['Final Label'].value_counts()"
   ]
  },
  {
   "cell_type": "code",
   "execution_count": 48,
   "id": "1ad114f3",
   "metadata": {},
   "outputs": [],
   "source": [
    "# Create a separate dataframe where ['Label G1'] == df['Label G2']\n",
    "\n",
    "agree_df = df[df['Label G1'] == df['Label G2']]\n",
    "agree_df;"
   ]
  },
  {
   "cell_type": "code",
   "execution_count": 49,
   "id": "fc20e9ff",
   "metadata": {},
   "outputs": [],
   "source": [
    "# Create a list of columns to be dropped if 'Label G1' = 'Label G2' and drop them\n",
    "# Drop the labels for G2 also (drop either of G1 or G2, assume they are thesame labels)\n",
    "\n",
    "drop_columns = ['Label G3', 'G3 ANRS', 'G3 ANRI', 'G3 RNFLDS', 'G3 RNFLDI', 'G3 BCLVS', 'G3 BCLVI', 'G3 NVT', 'G3 DH',\n",
    "                'G3 LD', 'G3 LC', 'Label G2', 'G2 ANRS', 'G2 ANRI', 'G2 RNFLDS', 'G2 RNFLDI', 'G2 BCLVS', 'G2 BCLVI',\n",
    "                'G2 NVT', 'G2 DH', 'G2 LD', 'G2 LC', 'Label G1']         \n",
    "\n",
    "agree_df = agree_df.drop(drop_columns, axis=1)\n",
    "agree_df;"
   ]
  },
  {
   "cell_type": "code",
   "execution_count": 50,
   "id": "f5c6f101",
   "metadata": {},
   "outputs": [],
   "source": [
    "# Rename the columns\n",
    "# Create a dictionary to map old column names to new column names\n",
    "new_column_names = {'G1 ANRS': 'ANRS', 'G1 ANRI': 'ANRI', 'G1 RNFLDS': 'RNFLDS', 'G1 RNFLDI': 'RNFLDI',\n",
    "                    'G1 BCLVS': 'BCLVS', 'G1 BCLVI': 'BCLVI', 'G1 NVT': 'NVT', 'G1 DH': 'DH', \n",
    "                    'G1 LD': 'LD', 'G1 LC': 'LC'}\n",
    "\n",
    "# Rename columns using the dictionary\n",
    "agree_df.rename(columns=new_column_names, inplace=True)\n",
    "\n",
    "# Display the renamed DataFrame\n",
    "agree_df;"
   ]
  },
  {
   "cell_type": "code",
   "execution_count": 51,
   "id": "ccc4f2a9",
   "metadata": {},
   "outputs": [],
   "source": [
    "# Create a separate dataframe where ['Label G1'] != df['Label G2']\n",
    "\n",
    "disagree_df = df[df['Label G1'] != df['Label G2']]\n",
    "disagree_df;"
   ]
  },
  {
   "cell_type": "code",
   "execution_count": 52,
   "id": "d24a76de",
   "metadata": {},
   "outputs": [],
   "source": [
    "# Create a list of columns to be dropped if 'Label G1' != 'Label G2' and drop them\n",
    "# Drop the labels for G1 and G2 (we stick to G3 labels)\n",
    "\n",
    "drop_columns = ['Label G1', 'G1 ANRS', 'G1 ANRI', 'G1 RNFLDS', 'G1 RNFLDI', 'G1 BCLVS', 'G1 BCLVI', 'G1 NVT', 'G1 DH',\n",
    "                'G1 LD', 'G1 LC', 'Label G2', 'G2 ANRS', 'G2 ANRI', 'G2 RNFLDS', 'G2 RNFLDI', 'G2 BCLVS', 'G2 BCLVI',\n",
    "                'G2 NVT', 'G2 DH', 'G2 LD', 'G2 LC', 'Label G3']         \n",
    "\n",
    "disagree_df = disagree_df.drop(drop_columns, axis=1)\n",
    "disagree_df;"
   ]
  },
  {
   "cell_type": "code",
   "execution_count": 53,
   "id": "5368ad97",
   "metadata": {},
   "outputs": [],
   "source": [
    "# Rename the columns\n",
    "# Create a dictionary to map old column names to new column names\n",
    "new_column_names = {'G3 ANRS': 'ANRS', 'G3 ANRI': 'ANRI', 'G3 RNFLDS': 'RNFLDS', 'G3 RNFLDI': 'RNFLDI',\n",
    "                    'G3 BCLVS': 'BCLVS', 'G3 BCLVI': 'BCLVI', 'G3 NVT': 'NVT', 'G3 DH': 'DH', \n",
    "                    'G3 LD': 'LD', 'G3 LC': 'LC'}\n",
    "\n",
    "# Rename columns using the dictionary\n",
    "disagree_df.rename(columns=new_column_names, inplace=True)\n",
    "\n",
    "# Display the renamed DataFrame\n",
    "disagree_df;"
   ]
  },
  {
   "cell_type": "code",
   "execution_count": 54,
   "id": "b4ecad01",
   "metadata": {},
   "outputs": [],
   "source": [
    "# Concatenate agree_df and disagree_df vertically\n",
    "\n",
    "Jtrain= pd.concat([agree_df, disagree_df], ignore_index=True)\n",
    "\n",
    "# Save the concatenated dataframes to a csv file\n",
    "Jtrain.to_csv('Jtrain.csv', index=False)"
   ]
  },
  {
   "cell_type": "code",
   "execution_count": 55,
   "id": "dbd27a63",
   "metadata": {},
   "outputs": [],
   "source": [
    "# Check the number of distinct values in Label G1 column\n",
    "df['Label G1'].value_counts();"
   ]
  },
  {
   "cell_type": "code",
   "execution_count": 56,
   "id": "602f53e0",
   "metadata": {},
   "outputs": [],
   "source": [
    "# Save all rows and the first four columns to a new dataframe\n",
    "new_df = df.iloc[:, :4]\n",
    "new_df;"
   ]
  },
  {
   "cell_type": "code",
   "execution_count": 2,
   "id": "e1313749",
   "metadata": {},
   "outputs": [],
   "source": [
    "df = pd.read_csv('Jtrain.csv')\n",
    "df;"
   ]
  },
  {
   "cell_type": "code",
   "execution_count": 59,
   "id": "34a0deb5",
   "metadata": {},
   "outputs": [],
   "source": [
    "# create a column for target variable from Final Label column\n",
    "# replace 'NRG' with numerical zero meaning non referrable glaucoma\n",
    "# replace 'RG' with numerical one meaning referrable glaucoma\n",
    "df['target'] = df['Final Label']\n",
    "df['target'] = df['target'].replace(['NRG'], 0)\n",
    "df['target'] =  df['target'].replace(['RG'], 1)\n",
    "df['target'].nunique()\n",
    "df['target'].value_counts()\n",
    "  \n",
    "# the data is skewed; more than 80% cases are non referrable glaucoma\n",
    "# create training folds to increase randomness of the training set\n",
    "from sklearn.model_selection import StratifiedKFold\n",
    "  \n",
    "# Create a new column 'kfold' and initialize it with -1\n",
    "df[\"kfold\"] = -1\n",
    "  \n",
    "# Randomize the training data\n",
    "df = df.sample(frac=1).reset_index(drop=True)\n",
    "  \n",
    "# Get the target variable from the DataFrame\n",
    "y = df.target.values\n",
    "  \n",
    "# Create an instance of StratifiedKFold\n",
    "kf = StratifiedKFold(n_splits=3)\n",
    "\n",
    "# Assign the fold index to the 'kfold' column for each row\n",
    "for fold_, (_, valid_index) in enumerate(kf.split(X=df, y=y)):\n",
    "    df.loc[valid_index, \"kfold\"] = fold_\n",
    "\n",
    "# Save the Jtraining data with fold indices to a CSV file\n",
    "df.to_csv('Jtrain_folds.csv', index=False)"
   ]
  },
  {
   "cell_type": "code",
   "execution_count": 60,
   "id": "79d25a0b",
   "metadata": {},
   "outputs": [
    {
     "data": {
      "text/plain": [
       "0    33808\n",
       "1    33808\n",
       "2    33807\n",
       "Name: kfold, dtype: int64"
      ]
     },
     "execution_count": 60,
     "metadata": {},
     "output_type": "execute_result"
    }
   ],
   "source": [
    "import pandas as pd\n",
    "checking = pd.read_csv('Jtrain_folds.csv')\n",
    "checking['kfold'].value_counts()"
   ]
  },
  {
   "cell_type": "code",
   "execution_count": 62,
   "id": "7104230f",
   "metadata": {},
   "outputs": [
    {
     "data": {
      "text/plain": [
       "0    32718\n",
       "1     1090\n",
       "Name: target, dtype: int64"
      ]
     },
     "execution_count": 62,
     "metadata": {},
     "output_type": "execute_result"
    }
   ],
   "source": [
    "# Check the number of rows with target 1 in each kfold\n",
    "df[df['kfold'] == 0].target.value_counts()"
   ]
  },
  {
   "cell_type": "code",
   "execution_count": 3,
   "id": "2134ce2b",
   "metadata": {},
   "outputs": [],
   "source": [
    "get_sample = (pd.read_csv('Jtrain_folds.csv')).sample(10)\n",
    "get_sample;"
   ]
  },
  {
   "cell_type": "code",
   "execution_count": 64,
   "id": "550d2f69",
   "metadata": {},
   "outputs": [
    {
     "data": {
      "text/plain": [
       "[0, 0, 0, 0, 0, 0, 0, 0, 0, 0]"
      ]
     },
     "execution_count": 64,
     "metadata": {},
     "output_type": "execute_result"
    }
   ],
   "source": [
    "list(get_sample['target'])"
   ]
  },
  {
   "cell_type": "code",
   "execution_count": 2,
   "id": "3f2c3819",
   "metadata": {},
   "outputs": [
    {
     "name": "stdout",
     "output_type": "stream",
     "text": [
      "Renamed: TRAIN064444.JPEG to TRAIN064444.JPG\n"
     ]
    }
   ],
   "source": [
    "# Some images are in png format and their names are not matching with the ones in the JustRAIGS_Train_labels.csv\n",
    "# Let's create a function to save them as jpeg (for reduced sizes) and rename them\n",
    "from PIL import Image\n",
    "import os\n",
    "\n",
    "def convert_images_to_jpg(input_folder):\n",
    "    # Iterate over all files in the input folder\n",
    "    for filename in os.listdir(input_folder):\n",
    "        input_path = os.path.join(input_folder, filename)\n",
    "\n",
    "        # Check if the file is an image\n",
    "        if os.path.isfile(input_path) and filename.lower().endswith(('.png', '.jpeg')):\n",
    "            # Check if the image is already in JPEG format\n",
    "            if not filename.lower().endswith(('.jpg', '.jpeg')):\n",
    "                # Open the image\n",
    "                img = Image.open(input_path)\n",
    "\n",
    "                # Convert to RGB mode (remove alpha channel)\n",
    "                img = img.convert('RGB')\n",
    "\n",
    "                # Save as JPEG with uppercase extension\n",
    "                new_filename = os.path.splitext(filename)[0] + '.JPG'\n",
    "                output_path = os.path.join(input_folder, new_filename)\n",
    "                img.save(output_path, 'JPEG')\n",
    "\n",
    "                print(f\"Converted: {filename} to {new_filename}\")\n",
    "                os.remove(input_path)  # Remove the original PNG or JPEG file\n",
    "            else:\n",
    "                # Rename images with '.jpeg' extension to '.JPG'\n",
    "                new_filename = os.path.splitext(filename)[0] + '.JPG'\n",
    "                new_path = os.path.join(input_folder, new_filename)\n",
    "                os.rename(input_path, new_path)\n",
    "                print(f\"Renamed: {filename} to {new_filename}\")\n",
    "\n",
    "# Now call the function on 'train_images'\n",
    "input_folder = 'C:\\\\Users\\\\USER\\\\Justraigs\\\\train_images'\n",
    "convert_images_to_jpg(input_folder)"
   ]
  },
  {
   "cell_type": "code",
   "execution_count": 1,
   "id": "0c0463ed",
   "metadata": {},
   "outputs": [],
   "source": [
    "# System\n",
    "import os, os.path\n",
    "import PIL\n",
    "from PIL import Image             \n",
    "import gc\n",
    "import time\n",
    "import datetime\n",
    "\n",
    "# Basics\n",
    "import pandas as pd\n",
    "import numpy as np\n",
    "import random\n",
    "import seaborn as sns\n",
    "import matplotlib\n",
    "import matplotlib.pyplot as plt\n",
    "\n",
    "from tqdm.notebook import tqdm     \n",
    "\n",
    "# SKlearn\n",
    "from sklearn.model_selection import StratifiedKFold, GroupKFold\n",
    "from sklearn.model_selection import GridSearchCV\n",
    "from sklearn.metrics import accuracy_score, roc_curve, roc_auc_score, auc, confusion_matrix\n",
    "from sklearn.preprocessing import LabelEncoder\n",
    "from sklearn.preprocessing import OneHotEncoder\n",
    "from sklearn import preprocessing\n",
    "\n",
    "from skimage import io\n",
    "\n",
    "# PyTorch\n",
    "import torch\n",
    "import torchvision\n",
    "import torch.nn as nn\n",
    "import torch.nn.functional as F\n",
    "from torch.utils.data import Dataset, DataLoader, Subset\n",
    "\n",
    "from torchvision.models import resnet34\n",
    "from torchvision import transforms\n",
    "\n",
    "import warnings\n",
    "warnings.filterwarnings(\"ignore\")"
   ]
  },
  {
   "cell_type": "code",
   "execution_count": 2,
   "id": "4879ba3e",
   "metadata": {},
   "outputs": [
    {
     "name": "stdout",
     "output_type": "stream",
     "text": [
      "Device available now: cpu\n"
     ]
    }
   ],
   "source": [
    "device = torch.device('cuda' if torch.cuda.is_available() else 'cpu')\n",
    "print('Device available now:', device)\n",
    "\n",
    "class ResNet34Network(nn.Module):\n",
    "    def __init__(self):\n",
    "        super().__init__()\n",
    "        \n",
    "        # Define Feature part (IMAGE)\n",
    "        self.features = resnet34(pretrained=True) # 1000 neurons out\n",
    "        \n",
    "        for param in self.features.parameters():\n",
    "            param.requires_grad = False\n",
    "  \n",
    "        # Define Classification part\n",
    "        self.classification = nn.Linear(1000, 1)\n",
    "        \n",
    "        \n",
    "    def forward(self, image):\n",
    "        # Image CNN\n",
    "        image = self.features(image)\n",
    "        \n",
    "        # Classifier\n",
    "        out = self.classification(image)\n",
    "        \n",
    "        return out\n",
    "    \n",
    "# Load the trained model\n",
    "model = ResNet34Network()\n",
    "model = model.to(device)\n",
    "model.load_state_dict(torch.load('model.pt'))\n",
    "model.eval();"
   ]
  },
  {
   "cell_type": "code",
   "execution_count": 3,
   "id": "e9c383b1",
   "metadata": {},
   "outputs": [],
   "source": [
    "# Define Justraigs dataset class here\n",
    "class Justraigs(Dataset):\n",
    "    \n",
    "    def __init__(self, dataframe, is_train=True, is_valid=False, is_test=False):\n",
    "        self.dataframe, self.is_train, self.is_valid = dataframe, is_train, is_valid\n",
    "        \n",
    "        # Data Augmentation\n",
    "        if is_train or is_test:\n",
    "            self.transform = transforms.Compose([transforms.ToPILImage(),\n",
    "                                                 transforms.RandomResizedCrop((224,224), scale=(0.4, 1.0)),\n",
    "                                                 transforms.RandomHorizontalFlip(p = 0.3),\n",
    "                                                 transforms.RandomVerticalFlip(p = 0.3),\n",
    "                                                 transforms.ToTensor(),\n",
    "                                                 transforms.Normalize((0.485, 0.456, 0.406), (0.229, 0.224, 0.225))])\n",
    "        else:\n",
    "            self.transform = transforms.Compose([transforms.ToPILImage(),\n",
    "                                                 transforms.Resize((224,224)),\n",
    "                                                 transforms.ToTensor(),\n",
    "                                                 transforms.Normalize((0.485, 0.456, 0.406), (0.229, 0.224, 0.225))])\n",
    "            \n",
    "    def __len__(self):\n",
    "        return len(self.dataframe)\n",
    "    \n",
    "    def __getitem__(self, index):\n",
    "        # Select path and read image\n",
    "        img_name = self.dataframe['Eye ID'][index]\n",
    "        image_path = f'train_images/{img_name}.jpg'\n",
    "        image = io.imread(image_path)\n",
    "        \n",
    "        # Apply transforms\n",
    "        image = self.transform(image)\n",
    "\n",
    "        \n",
    "        # If train/valid: image + class | If test: only image\n",
    "        if self.is_train or self.is_valid:\n",
    "            return (image, self.dataframe['target'][index])\n",
    "        else:\n",
    "            return (image)"
   ]
  },
  {
   "cell_type": "code",
   "execution_count": 4,
   "id": "e0a452d4",
   "metadata": {},
   "outputs": [],
   "source": [
    "# Create dataLoader named 'test_loader' Justraigs dataset\n",
    "\n",
    "# Data object and Loader\n",
    "train_df = pd.read_csv('Jtrain_folds.csv')\n",
    "dataset = Justraigs(train_df, is_train=True, is_valid=False, is_test=False)\n",
    "loader = DataLoader(dataset, batch_size=5, shuffle=True)\n",
    "\n",
    "train_size = int(len(train_df) * 0.80)\n",
    "val_size = int(len(train_df) * 0.10)\n",
    "test_size = int(len(train_df) * 0.10)\n",
    "\n",
    "# --- Read in Data ---\n",
    "train_data = train_df.iloc[:train_size].reset_index(drop=True)\n",
    "valid_data = train_df.iloc[train_size:train_size + val_size].reset_index(drop=True)\n",
    "test_data = train_df.iloc[train_size + val_size:].reset_index(drop=True)\n",
    "\n",
    "# Create Data instances\n",
    "train = Justraigs(train_data, is_train=True, is_valid=False, is_test=False)\n",
    "valid = Justraigs(valid_data, is_train=False, is_valid=True, is_test=False)\n",
    "test = Justraigs(test_data, is_train=False, is_valid=True, is_test=False)\n",
    "all_data = Justraigs(train_df, is_train=False, is_valid=True, is_test=False)\n",
    "\n",
    "# Dataloaders\n",
    "train_loader = DataLoader(train, batch_size=20, shuffle=True)\n",
    "valid_loader = DataLoader(valid, batch_size=8, shuffle=True)\n",
    "test_loader = DataLoader(test, batch_size=8, shuffle=True)\n",
    "all_loader = DataLoader(all_data, batch_size=20, shuffle=True)"
   ]
  },
  {
   "cell_type": "code",
   "execution_count": null,
   "id": "95cbf2b1",
   "metadata": {},
   "outputs": [],
   "source": [
    "# Use the trained model to get predicted probabilities on the test set\n",
    "all_labels = []\n",
    "all_probs = []\n",
    "\n",
    "with torch.no_grad():\n",
    "    for images, labels in tqdm(all_loader, desc='Evaluating', leave=False):\n",
    "        images = images.to(device)\n",
    "        labels = labels.to(device)\n",
    "        out = model(images)\n",
    "        probs = torch.round(torch.sigmoid(out))\n",
    "        all_labels.extend(labels.cpu().numpy())\n",
    "        all_probs.extend(probs.cpu().numpy())\n",
    "\n",
    "all_labels = np.array(all_labels)\n",
    "all_probs = np.array(all_probs)"
   ]
  },
  {
   "cell_type": "code",
   "execution_count": 6,
   "id": "29d01b3b",
   "metadata": {},
   "outputs": [
    {
     "data": {
      "application/vnd.jupyter.widget-view+json": {
       "model_id": "5d3cd23297b9427087fd3fd38cdfa3ff",
       "version_major": 2,
       "version_minor": 0
      },
      "text/plain": [
       "0it [00:00, ?it/s]"
      ]
     },
     "metadata": {},
     "output_type": "display_data"
    }
   ],
   "source": [
    "import json\n",
    "\n",
    "# Create empty lists to store predictions\n",
    "all_raw_probs = []\n",
    "all_rounded_preds = []\n",
    "\n",
    "with torch.no_grad():\n",
    "    for k, (images, labels) in tqdm(enumerate(all_loader)):\n",
    "        images = torch.tensor(images, device=device, dtype=torch.float32)\n",
    "        labels = torch.tensor(labels, device=device, dtype=torch.float32)\n",
    "        out = model(images)\n",
    "        pred = torch.sigmoid(out)\n",
    "        \n",
    "        # Convert rounded predictions to True and False\n",
    "        rounded_predictions = (torch.round(pred) == 1).bool()\n",
    "        \n",
    "        # Append to lists\n",
    "        all_raw_probs.extend(pred.cpu().numpy().tolist())\n",
    "        all_rounded_preds.extend(rounded_predictions.cpu().numpy().tolist())"
   ]
  },
  {
   "cell_type": "code",
   "execution_count": 7,
   "id": "c6d054f7",
   "metadata": {},
   "outputs": [
    {
     "name": "stdout",
     "output_type": "stream",
     "text": [
      "Raw predictions saved to 'likelihoods.json'\n",
      "Rounded predictions saved to 'binary_decisions.json'\n"
     ]
    }
   ],
   "source": [
    "# Save results to JSON files\n",
    "with open('likelihoods.json', 'w') as json_file:\n",
    "    json.dump(all_raw_probs, json_file, indent=4)\n",
    "\n",
    "with open('binary_decisions.json', 'w') as json_file:\n",
    "    json.dump(all_rounded_preds, json_file, indent=4)\n",
    "\n",
    "print(\"Raw predictions saved to 'likelihoods.json'\")\n",
    "print(\"Rounded predictions saved to 'binary_decisions.json'\")"
   ]
  },
  {
   "cell_type": "code",
   "execution_count": 7,
   "id": "b3df8cb4",
   "metadata": {},
   "outputs": [
    {
     "name": "stdout",
     "output_type": "stream",
     "text": [
      "Value counts of elements in all_labels: (array([0, 1], dtype=int64), array([9850,  293], dtype=int64))\n",
      "Value counts of elements in all_probs: (array([0., 1.], dtype=float32), array([9375,  768], dtype=int64))\n",
      "Label 0: 9850 occurrences\n",
      "Label 1: 293 occurrences\n",
      "Prob 0.0: 9375 occurrences\n",
      "Prob 1.0: 768 occurrences\n"
     ]
    }
   ],
   "source": [
    "# Get the value counts of elements in all_labels and all_probs\n",
    "label_counts = np.unique(all_labels, return_counts=True)\n",
    "probs_counts = np.unique(all_probs, return_counts=True)\n",
    "\n",
    "print(f\"Value counts of elements in all_labels: {label_counts}\")\n",
    "print(f\"Value counts of elements in all_probs: {probs_counts}\")\n",
    "\n",
    "for label, count in zip(label_counts[0], label_counts[1]):\n",
    "    print(f\"Label {label}: {count} occurrences\")\n",
    "    \n",
    "for probs, count in zip(probs_counts[0], probs_counts[1]):\n",
    "    print(f\"Prob {probs}: {count} occurrences\")"
   ]
  },
  {
   "cell_type": "code",
   "execution_count": 8,
   "id": "a359a78e",
   "metadata": {},
   "outputs": [
    {
     "name": "stdout",
     "output_type": "stream",
     "text": [
      "Number of positions where elements match in both arrays: 95\n",
      "Matching positions: [  164   193   223   281   538   797   923   997  1042  1053  1144  1200\n",
      "  1256  1300  1339  1387  1572  1768  1997  2058  2122  2351  2395  2550\n",
      "  2661  2663  2729  2745  2865  3083  3143  3238  3368  3372  3473  3552\n",
      "  3577  3651  3726  3964  4160  4184  4228  4296  4334  4348  4468  4574\n",
      "  4600  4644  4799  4945  5024  5339  5690  5933  5938  6424  6615  6743\n",
      "  6854  7056  7165  7261  7580  7600  7603  7662  7811  7874  7916  8122\n",
      "  8189  8250  8256  8266  8297  8298  8338  8464  8525  8692  8993  9212\n",
      "  9283  9304  9500  9509  9606  9636  9781  9829  9850  9942 10094]\n"
     ]
    }
   ],
   "source": [
    "matching_positions = []\n",
    "\n",
    "for i in range(len(all_labels)):\n",
    "    if all_labels[i] == all_probs[i] == 1:\n",
    "        matching_positions.append(i)\n",
    "\n",
    "matching_positions = np.array(matching_positions)\n",
    "\n",
    "print(\"Number of positions where elements match in both arrays:\", len(matching_positions))\n",
    "print(\"Matching positions:\", matching_positions);"
   ]
  },
  {
   "cell_type": "code",
   "execution_count": 9,
   "id": "5a7e28b7",
   "metadata": {},
   "outputs": [
    {
     "name": "stdout",
     "output_type": "stream",
     "text": [
      "fpr: 0.3561082910321489, tpr: 0.44141069397042093\n"
     ]
    },
    {
     "data": {
      "text/plain": [
       "Text(0.5, 1.0, 'Receiver Operating Characteristic (ROC) Curve')"
      ]
     },
     "execution_count": 9,
     "metadata": {},
     "output_type": "execute_result"
    },
    {
     "data": {
      "image/png": "[encoded data removed]",
      "text/plain": [
       "<Figure size 576x432 with 1 Axes>"
      ]
     },
     "metadata": {
      "needs_background": "light"
     },
     "output_type": "display_data"
    }
   ],
   "source": [
    "# Compute the ROC curve\n",
    "fpr, tpr, thresholds = roc_curve(all_labels, all_probs)\n",
    "print(f'fpr: {np.mean(fpr)}, tpr: {np.mean(tpr)}')\n",
    "\n",
    "# Calculate the AUC (Area Under the Curve)\n",
    "roc_auc = auc(fpr, tpr)\n",
    "\n",
    "# Plot the ROC curve\n",
    "plt.figure(figsize=(8, 6))\n",
    "plt.plot(fpr, tpr, color='darkorange', lw=2, label=f'ROC curve (AUC = {roc_auc:.2f})')\n",
    "plt.plot([0, 1], [0, 1], color='navy', lw=2, linestyle='--')\n",
    "plt.xlim([0.0, 1.0])\n",
    "plt.ylim([0.0, 1.05])\n",
    "plt.xlabel('False Positive Rate (FPR)')\n",
    "plt.ylabel('True Positive Rate (TPR)')\n",
    "plt.title('Receiver Operating Characteristic (ROC) Curve')"
   ]
  },
  {
   "cell_type": "code",
   "execution_count": 10,
   "id": "1d158ac5",
   "metadata": {},
   "outputs": [
    {
     "name": "stdout",
     "output_type": "stream",
     "text": [
      "Threshold at Specificity 95.00%: 1.0000\n",
      "Sensitivity at Specificity 95.00%: 0.3242\n"
     ]
    },
    {
     "data": {
      "image/png": "[encoded data removed]",
      "text/plain": [
       "<Figure size 432x288 with 1 Axes>"
      ]
     },
     "metadata": {
      "needs_background": "light"
     },
     "output_type": "display_data"
    }
   ],
   "source": [
    "# Desired specificity\n",
    "desired_specificity = 0.95\n",
    "\n",
    "# Find the index of the threshold that is closest to the desired specificity\n",
    "idx = np.argmax(fpr >= (1 - desired_specificity))\n",
    "\n",
    "# Get the corresponding threshold\n",
    "threshold_at_desired_specificity = thresholds[idx]\n",
    "\n",
    "print(f\"Threshold at Specificity {desired_specificity*100:.2f}%: {threshold_at_desired_specificity:.4f}\")\n",
    "\n",
    "# Get the corresponding TPR (sensitivity)\n",
    "sensitivity_at_desired_specificity = tpr[idx]\n",
    "\n",
    "print(f\"Sensitivity at Specificity {desired_specificity*100:.2f}%: {sensitivity_at_desired_specificity:.4f}\")\n",
    "\n",
    "# Plot the sensitivity at 95% of specificity \n",
    "plt.scatter(fpr[idx], tpr[idx], c='red', marker='o', label=f'Sensitivity (at Spec. {desired_specificity*100:.2f}%) = {sensitivity_at_desired_specificity:.4f}')\n",
    "\n",
    "plt.legend(loc='lower right')\n",
    "plt.show()"
   ]
  },
  {
   "cell_type": "code",
   "execution_count": 9,
   "id": "b1d4f2ae",
   "metadata": {},
   "outputs": [],
   "source": [
    "# Convert the list of rounded predictions to a DataFrame\n",
    "rounded_preds_df = pd.DataFrame(all_rounded_preds, columns=['model_predictions'])\n",
    "\n",
    "# Add the rounded predictions DataFrame to your original dataset\n",
    "all_data_with_preds = pd.concat([train_df, rounded_preds_df], axis=1)\n",
    "\n",
    "# Select rows where the prediction of your first model is positive (True)\n",
    "positive_predictions = all_data_with_preds[all_data_with_preds['model_predictions'] == True]\n",
    "\n",
    "# Now 'positive_predictions' contains only the rows where the prediction of the binary classification model is positive\n",
    "# Save this to a new csv file\n",
    "positive_predictions.to_csv('referable_glaucoma.csv', index=False)"
   ]
  },
  {
   "cell_type": "code",
   "execution_count": 8,
   "id": "d25be453",
   "metadata": {},
   "outputs": [],
   "source": [
    "import pandas as pd\n",
    "\n",
    "# Load the referable glaucoma CSV file and JustRAIGS Train labels CSV file\n",
    "referable_glaucoma_df = pd.read_csv('referable_glaucoma.csv')\n",
    "referable_glaucoma_df = referable_glaucoma_df[['Eye ID', 'Final Label', 'Fellow Eye ID', 'Age']]\n",
    "justraigs_train_labels_df = pd.read_csv('JustRAIGS_Train_labels.csv', sep=';')\n",
    "\n",
    "# Perform a join operation based on the 'Eye ID' column\n",
    "full_referable_glaucoma_df = pd.merge(referable_glaucoma_df, justraigs_train_labels_df,\n",
    "                                      on=['Eye ID', 'Final Label', 'Fellow Eye ID', 'Age'], how='inner')\n",
    "\n",
    "# Save the merged DataFrame to a new CSV file\n",
    "full_referable_glaucoma_df.to_csv('full_referable_glaucoma.csv', index=False)"
   ]
  },
  {
   "cell_type": "code",
   "execution_count": 26,
   "id": "295bb5d9",
   "metadata": {},
   "outputs": [],
   "source": [
    "import pandas as pd\n",
    "import numpy as np\n",
    "from skimage import io\n",
    "import torch\n",
    "from torchvision import transforms\n",
    "from torch.utils.data import Dataset, DataLoader\n",
    "from torchvision.models import resnet34\n",
    "import torch.nn as nn\n",
    "import json\n",
    "\n",
    "# Load the referable glaucoma CSV file\n",
    "referable_glaucoma_df = pd.read_csv('referable_glaucoma.csv')\n",
    "\n",
    "# Define the device (GPU or CPU)\n",
    "device = torch.device('cuda' if torch.cuda.is_available() else 'cpu')\n",
    "\n",
    "# Dataset class for inference\n",
    "class JustraigsInference(Dataset):\n",
    "    def __init__(self, dataframe):\n",
    "        self.dataframe = dataframe\n",
    "        self.transform = transforms.Compose([\n",
    "            transforms.ToPILImage(),\n",
    "            transforms.Resize((224, 224)),\n",
    "            transforms.ToTensor(),\n",
    "            transforms.Normalize((0.485, 0.456, 0.406), (0.229, 0.224, 0.225))\n",
    "        ])\n",
    "\n",
    "    def __len__(self):\n",
    "        return len(self.dataframe)\n",
    "\n",
    "    def __getitem__(self, index):\n",
    "        img_name = self.dataframe['Eye ID'][index]\n",
    "        image_path = f'train_images/{img_name}.jpg'\n",
    "        image = io.imread(image_path)\n",
    "        image = self.transform(image)\n",
    "        return image, img_name\n",
    "\n",
    "# Load the model\n",
    "class ResNet34Network(nn.Module):\n",
    "    def __init__(self):\n",
    "        super().__init__()\n",
    "        self.features = resnet34(pretrained=True)\n",
    "        for param in self.features.parameters():\n",
    "            param.requires_grad = False\n",
    "        self.additional_features_classifier = nn.Linear(1000, 10)\n",
    "\n",
    "    def forward(self, image):\n",
    "        image = self.features(image)\n",
    "        additional_features_prediction = torch.sigmoid(self.additional_features_classifier(image))\n",
    "        return additional_features_prediction\n",
    "\n",
    "model = ResNet34Network()\n",
    "model.load_state_dict(torch.load('./modeljust.pt'))  # Load the trained model\n",
    "model = model.to(device)\n",
    "model.eval()\n",
    "\n",
    "# Prepare the dataset and data loader for inference\n",
    "inference_dataset = JustraigsInference(referable_glaucoma_df)\n",
    "inference_loader = DataLoader(inference_dataset, batch_size=1, shuffle=False)\n",
    "\n",
    "# Store predictions along with image IDs\n",
    "predictions = {}\n",
    "\n",
    "# Iterate over the images and make predictions\n",
    "for images, image_ids in inference_loader:\n",
    "    images = images.to(device)\n",
    "    with torch.no_grad():\n",
    "        additional_features_pred = model(images)\n",
    "    predictions[image_ids[0]] = torch.round(additional_features_pred).cpu().numpy().tolist()\n",
    "\n",
    "# Save predictions to a JSON file\n",
    "with open('predictions.json', 'w') as file:\n",
    "    json.dump(predictions, file)"
   ]
  },
  {
   "cell_type": "code",
   "execution_count": 3,
   "id": "7fa69b3a",
   "metadata": {},
   "outputs": [
    {
     "name": "stdout",
     "output_type": "stream",
     "text": [
      "Average Modified Hamming Loss: 0.13272512394788427\n"
     ]
    }
   ],
   "source": [
    "import numpy as np\n",
    "import pandas as pd\n",
    "import json\n",
    "\n",
    "# Load data\n",
    "data = pd.read_csv('full_referable_glaucoma.csv')\n",
    "\n",
    "# Load predictions from JSON file\n",
    "with open('predictions.json', 'r') as file:\n",
    "    predictions = json.load(file)\n",
    "\n",
    "# Function defining the Modified Hamming loss\n",
    "def hamming_loss(true_labels, predicted_labels):\n",
    "    \"\"\"Calculate the Hamming loss for the given true and predicted labels.\"\"\"\n",
    "    # Convert to numpy arrays for efficient computation\n",
    "    true_labels = np.array(true_labels)\n",
    "    predicted_labels = np.array(predicted_labels)\n",
    "\n",
    "    # Calculate the hamming distance that is basically the total number of mismatches\n",
    "    Hamming_distance = np.sum(np.not_equal(true_labels, predicted_labels))\n",
    "    \n",
    "    # Calculate the total number of labels\n",
    "    total_corrected_labels = true_labels.size\n",
    "\n",
    "    # Compute the Modified Hamming loss\n",
    "    loss = Hamming_distance / total_corrected_labels\n",
    "    return loss\n",
    "\n",
    "total_hamming_distance = 0\n",
    "total_corrected_labels = 0\n",
    "\n",
    "# Iterate over each row in the dataset\n",
    "for _, row in data.iterrows():\n",
    "    if row['Final Label'] == 'RG':\n",
    "        if row['Label G3'] == 'RG':\n",
    "            label_columns = ['G3 ANRS', 'G3 ANRI', 'G3 RNFLDS', 'G3 RNFLDS', 'G3 BCLVS',\n",
    "                         'G3 BCLVI', 'G3 NVT', 'G3 DH', 'G3 LD', 'G3 LC']\n",
    "            true_labels = row[label_columns].values.tolist()\n",
    "            predicted_labels = predictions.get(row['Eye ID'], [])\n",
    "            loss = np.sum(np.not_equal(true_labels, predicted_labels))\n",
    "            total_hamming_distance += loss\n",
    "            total_corrected_labels += len(true_labels)\n",
    "        else:\n",
    "            G1_label_columns = ['G1 ANRS', 'G1 ANRI', 'G1 RNFLDS', 'G1 RNFLDS', 'G1 BCLVS',\n",
    "                            'G1 BCLVI', 'G1 NVT', 'G1 DH', 'G1 LD', 'G1 LC']\n",
    "            G2_label_columns = ['G2 ANRS', 'G2 ANRI', 'G2 RNFLDS', 'G2 RNFLDS', 'G2 BCLVS',\n",
    "                            'G2 BCLVI', 'G2 NVT', 'G2 DH', 'G2 LD', 'G2 LC']\n",
    "            G1_labels = row[G1_label_columns].values.tolist()\n",
    "            G2_labels = row[G2_label_columns].values.tolist()\n",
    "            agreed_features = np.equal(G1_labels, G2_labels)\n",
    "            selected_pred_labels = np.array(predictions.get(row['Eye ID'], []))\n",
    "            selected_pred_labels = selected_pred_labels.squeeze()\n",
    "            selected_pred_labels = selected_pred_labels[agreed_features]\n",
    "            selected_true_labels = np.array(G2_labels)\n",
    "            selected_true_labels = selected_true_labels.squeeze()\n",
    "            selected_true_labels = selected_true_labels[agreed_features]\n",
    "            loss = hamming_loss(selected_true_labels, selected_pred_labels)\n",
    "            total_hamming_distance += loss\n",
    "            total_corrected_labels += len(selected_true_labels)\n",
    "            \n",
    "# Calculate the average Modified Hamming Loss\n",
    "average_hamming_loss = total_hamming_distance / total_corrected_labels\n",
    "print(\"Average Modified Hamming Loss:\", average_hamming_loss)"
   ]
  },
  {
   "cell_type": "code",
   "execution_count": null,
   "id": "094c098f",
   "metadata": {},
   "outputs": [],
   "source": []
  }
 ],
 "metadata": {
  "kernelspec": {
   "display_name": "Python 3 (ipykernel)",
   "language": "python",
   "name": "python3"
  },
  "language_info": {
   "codemirror_mode": {
    "name": "ipython",
    "version": 3
   },
   "file_extension": ".py",
   "mimetype": "text/x-python",
   "name": "python",
   "nbconvert_exporter": "python",
   "pygments_lexer": "ipython3",
   "version": "3.9.12"
  }
 },
 "nbformat": 4,
 "nbformat_minor": 5
}
